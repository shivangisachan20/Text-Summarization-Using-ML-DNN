{
  "nbformat": 4,
  "nbformat_minor": 0,
  "metadata": {
    "colab": {
      "name": "Reinforcement _learning _project",
      "provenance": [],
      "collapsed_sections": []
    },
    "kernelspec": {
      "name": "python3",
      "display_name": "Python 3"
    },
    "language_info": {
      "name": "python"
    }
  },
  "cells": [
    {
      "cell_type": "markdown",
      "source": [
        "\n",
        "\n",
        "\n",
        "# **Topic: Building a Text Summarizer**\n",
        "**Deep Reinforcement Learning (DeepRL) for Abstractive Text Summarization made easy**\n",
        "\n",
        "\n",
        "\n",
        "\n",
        "\n",
        "\n"
      ],
      "metadata": {
        "id": "eW5VT-n2HgWi"
      }
    },
    {
      "cell_type": "code",
      "source": [
        "from sklearn.feature_extraction.text import TfidfVectorizer\n",
        "from spacy.lang.en import English\n",
        "import numpy as np"
      ],
      "metadata": {
        "id": "tV_uVJvsHfOD"
      },
      "execution_count": 21,
      "outputs": []
    },
    {
      "cell_type": "markdown",
      "source": [
        "##**Load spacy model for sentence tokenization**"
      ],
      "metadata": {
        "id": "Ta0LuLw7IeSL"
      }
    },
    {
      "cell_type": "code",
      "source": [
        "nlp = English()\n",
        "nlp.add_pipe(nlp.create_pipe('sentencizer'))"
      ],
      "metadata": {
        "id": "zj0TANMKFQev"
      },
      "execution_count": 2,
      "outputs": []
    },
    {
      "cell_type": "code",
      "source": [
        "text_corpus = \"\"\"\n",
        "Google celebrated British illustrator and artist Sir John Tenniel's \n",
        "200th birth anniversary with a doodle on February 28. An acclaimed \n",
        "Victorian painter, Tenniel is celebrated for his illustrations for \n",
        "Lewis Carroll's Alice's Adventures in Wonderland and Through the Looking-Glass.\n",
        "Tenniel was born in Bayswater, West London in 1820. At the age of 20, Tenniel \n",
        "received a major eye injury and eventually, lost sight in his right eye. \n",
        "From a very early age, Tenniel was appreciated as a humorist and soon after, \n",
        "also cultured his talent for scholarly caricature.\n",
        "His first illustration was for Samuel Carter Hall's The Book of British \n",
        "Ballads in 1842. Eight years later, he joined the historic weekly magazine \n",
        "Punch as a political cartoonist. Lewis Carroll noticed Tenniel's distinct style \n",
        "of work and in 1864, approached the artist to illustrate his book, Alice's \n",
        "Adventures in Wonderland. This association marked Carroll and Tenniel's creative \n",
        "partnership and continued with Through the Looking Glass in 1872. \"The result: \n",
        "a series of classic characters, such as Alice and the Cheshire Cat, as depicted \n",
        "in the Doodle artwork's rendition of their iconic meeting-characters who, along \n",
        "with many others, remain beloved by readers of all ages to this day,\" the Google \n",
        "Doodle page says. After working with Lewis Carroll, Tenniel resumed his work with \n",
        "Punch. For his work, Tenniel also received a knighthood in 1893.\n",
        "Sir John Tenniel died on February 25, 1914. He was 93.\n",
        "\"\"\""
      ],
      "metadata": {
        "id": "0IRE7dxbFXsI"
      },
      "execution_count": 3,
      "outputs": []
    },
    {
      "cell_type": "markdown",
      "source": [
        "# **Create spacy document for further sentence level tokenization**"
      ],
      "metadata": {
        "id": "ZWyWY3dkIkym"
      }
    },
    {
      "cell_type": "code",
      "source": [
        "doc = nlp(text_corpus.replace(\"\\n\", \"\"))\n",
        "sentences = [sent.string.strip() for sent in doc.sents]"
      ],
      "metadata": {
        "id": "adlIQAmJFdYK"
      },
      "execution_count": 4,
      "outputs": []
    },
    {
      "cell_type": "markdown",
      "source": [
        "## **Peeking into our tokenized sentences**"
      ],
      "metadata": {
        "id": "G652nPnDI878"
      }
    },
    {
      "cell_type": "code",
      "source": [
        "print(\"Senetence are: \\n\", sentences)"
      ],
      "metadata": {
        "colab": {
          "base_uri": "https://localhost:8080/"
        },
        "id": "zskiGFm9FhEm",
        "outputId": "3b93c762-35b9-4fd1-fb11-d8c9da196cf6"
      },
      "execution_count": 5,
      "outputs": [
        {
          "output_type": "stream",
          "name": "stdout",
          "text": [
            "Senetence are: \n",
            " [\"Google celebrated British illustrator and artist Sir John Tenniel's 200th birth anniversary with a doodle on February 28.\", \"An acclaimed Victorian painter, Tenniel is celebrated for his illustrations for Lewis Carroll's Alice's Adventures in Wonderland and Through the Looking-Glass.\", 'Tenniel was born in Bayswater, West London in 1820.', 'At the age of 20, Tenniel received a major eye injury and eventually, lost sight in his right eye.', 'From a very early age, Tenniel was appreciated as a humorist and soon after, also cultured his talent for scholarly caricature.', \"His first illustration was for Samuel Carter Hall's The Book of British Ballads in 1842.\", 'Eight years later, he joined the historic weekly magazine Punch as a political cartoonist.', \"Lewis Carroll noticed Tenniel's distinct style of work and in 1864, approached the artist to illustrate his book, Alice's Adventures in Wonderland.\", 'This association marked Carroll and Tenniel\\'s creative partnership and continued with Through the Looking Glass in 1872. \"', 'The result: a series of classic characters, such as Alice and the Cheshire Cat, as depicted in the Doodle artwork\\'s rendition of their iconic meeting-characters who, along with many others, remain beloved by readers of all ages to this day,\" the Google Doodle page says.', 'After working with Lewis Carroll, Tenniel resumed his work with Punch.', 'For his work, Tenniel also received a knighthood in 1893.Sir John Tenniel died on February 25, 1914.', 'He was 93.']\n"
          ]
        }
      ]
    },
    {
      "cell_type": "markdown",
      "source": [
        "# **Creating sentence organizer**"
      ],
      "metadata": {
        "id": "iaZ4_zJXJrL-"
      }
    },
    {
      "cell_type": "code",
      "source": [
        "#Creating sentence organizer\n",
        "# Let's create an organizer which will store the sentence ordering to later reorganize the \n",
        "# scored sentences in their correct order\n",
        "sentence_organizer = {k:v for v,k in enumerate(sentences)}"
      ],
      "metadata": {
        "id": "77lPG0nVFkip"
      },
      "execution_count": 6,
      "outputs": []
    },
    {
      "cell_type": "markdown",
      "source": [
        "# Peeking into our sentence "
      ],
      "metadata": {
        "id": "PAQJaIkFJ0fS"
      }
    },
    {
      "cell_type": "code",
      "source": [
        "#Peeking into our sentence organizer\n",
        "print(\"Our sentence organizer: \\n\", sentence_organizer)"
      ],
      "metadata": {
        "colab": {
          "base_uri": "https://localhost:8080/"
        },
        "id": "SCIokdgUFwaA",
        "outputId": "d784b03a-ecc7-4820-8638-40d3cb775330"
      },
      "execution_count": 23,
      "outputs": [
        {
          "output_type": "stream",
          "name": "stdout",
          "text": [
            "Our sentence organizer: \n",
            " {\"Google celebrated British illustrator and artist Sir John Tenniel's 200th birth anniversary with a doodle on February 28.\": 0, \"An acclaimed Victorian painter, Tenniel is celebrated for his illustrations for Lewis Carroll's Alice's Adventures in Wonderland and Through the Looking-Glass.\": 1, 'Tenniel was born in Bayswater, West London in 1820.': 2, 'At the age of 20, Tenniel received a major eye injury and eventually, lost sight in his right eye.': 3, 'From a very early age, Tenniel was appreciated as a humorist and soon after, also cultured his talent for scholarly caricature.': 4, \"His first illustration was for Samuel Carter Hall's The Book of British Ballads in 1842.\": 5, 'Eight years later, he joined the historic weekly magazine Punch as a political cartoonist.': 6, \"Lewis Carroll noticed Tenniel's distinct style of work and in 1864, approached the artist to illustrate his book, Alice's Adventures in Wonderland.\": 7, 'This association marked Carroll and Tenniel\\'s creative partnership and continued with Through the Looking Glass in 1872. \"': 8, 'The result: a series of classic characters, such as Alice and the Cheshire Cat, as depicted in the Doodle artwork\\'s rendition of their iconic meeting-characters who, along with many others, remain beloved by readers of all ages to this day,\" the Google Doodle page says.': 9, 'After working with Lewis Carroll, Tenniel resumed his work with Punch.': 10, 'For his work, Tenniel also received a knighthood in 1893.Sir John Tenniel died on February 25, 1914.': 11, 'He was 93.': 12}\n"
          ]
        }
      ]
    },
    {
      "cell_type": "markdown",
      "source": [
        "# **Creating TF-IDF model**"
      ],
      "metadata": {
        "id": "blAou_JqKLIa"
      }
    },
    {
      "cell_type": "code",
      "source": [
        "#Creating TF-IDF model\n",
        "# Let's now create a tf-idf (Term frequnecy Inverse Document Frequency) model\n",
        "tf_idf_vectorizer = TfidfVectorizer(min_df=2,  max_features=None, \n",
        "                                    strip_accents='unicode', \n",
        "                                    analyzer='word',\n",
        "                                    token_pattern=r'\\w{1,}',\n",
        "                                    ngram_range=(1, 3), \n",
        "                                    use_idf=1,smooth_idf=1,\n",
        "                                    sublinear_tf=1,\n",
        "                                    stop_words = 'english')\n"
      ],
      "metadata": {
        "id": "XJrOjyMBF7J3"
      },
      "execution_count": 8,
      "outputs": []
    },
    {
      "cell_type": "code",
      "source": [
        "# Passing our sentences treating each as one document to TF-IDF vectorizer\n",
        "tf_idf_vectorizer.fit(sentences)"
      ],
      "metadata": {
        "colab": {
          "base_uri": "https://localhost:8080/"
        },
        "id": "4_zHOY8VGEv7",
        "outputId": "e8d38db8-2fb8-4c5b-e2a2-b616b49b4810"
      },
      "execution_count": 9,
      "outputs": [
        {
          "output_type": "execute_result",
          "data": {
            "text/plain": [
              "TfidfVectorizer(min_df=2, ngram_range=(1, 3), smooth_idf=1,\n",
              "                stop_words='english', strip_accents='unicode', sublinear_tf=1,\n",
              "                token_pattern='\\\\w{1,}', use_idf=1)"
            ]
          },
          "metadata": {},
          "execution_count": 9
        }
      ]
    },
    {
      "cell_type": "code",
      "source": [
        "# Transforming our sentences to TF-IDF vectors\n",
        "sentence_vectors = tf_idf_vectorizer.transform(sentences)"
      ],
      "metadata": {
        "id": "o9aOwzFrGLDD"
      },
      "execution_count": 10,
      "outputs": []
    },
    {
      "cell_type": "markdown",
      "source": [
        "# **Performing sentence scoring**"
      ],
      "metadata": {
        "id": "Q-F8zqwcGZI6"
      }
    },
    {
      "cell_type": "code",
      "source": [
        "# Getting sentence scores for each sentences\n",
        "sentence_scores = np.array(sentence_vectors.sum(axis=1)).ravel()\n",
        "\n",
        "# Sanity checkup\n",
        "print(len(sentences) == len(sentence_scores))"
      ],
      "metadata": {
        "colab": {
          "base_uri": "https://localhost:8080/"
        },
        "id": "uYLdNbq1GXDh",
        "outputId": "5a06e956-8a6e-431a-a057-92aee012b0e3"
      },
      "execution_count": 13,
      "outputs": [
        {
          "output_type": "stream",
          "name": "stdout",
          "text": [
            "True\n"
          ]
        }
      ]
    },
    {
      "cell_type": "code",
      "source": [
        "# Getting top-n sentences\n",
        "N = 3\n",
        "top_n_sentences = [sentences[ind] for ind in np.argsort(sentence_scores, axis=0)[::-1][:N]]"
      ],
      "metadata": {
        "id": "Y_T3okiNGjo3"
      },
      "execution_count": 14,
      "outputs": []
    },
    {
      "cell_type": "markdown",
      "source": [
        "# **Performing final summarization**"
      ],
      "metadata": {
        "id": "ly_k2PNbGnrt"
      }
    },
    {
      "cell_type": "code",
      "source": [
        "# Let's now do the sentence ordering using our prebaked sentence_organizer\n",
        "# Let's map the scored sentences with their indexes\n",
        "mapped_top_n_sentences = [(sentence,sentence_organizer[sentence]) for sentence in top_n_sentences]\n",
        "print(\"Our top_n_sentence with their index: \\n\")\n",
        "for element in mapped_top_n_sentences:\n",
        "    print(element)\n",
        "\n",
        "# Ordering our top-n sentences in their original ordering\n",
        "mapped_top_n_sentences = sorted(mapped_top_n_sentences, key = lambda x: x[1])\n",
        "ordered_scored_sentences = [element[0] for element in mapped_top_n_sentences]\n",
        "\n",
        "# Our final summary\n",
        "summary = \" \".join(ordered_scored_sentences)"
      ],
      "metadata": {
        "colab": {
          "base_uri": "https://localhost:8080/"
        },
        "id": "j6KqUDf7GuYu",
        "outputId": "dc1e85b9-3838-4fe4-9a49-fc5b196c09b1"
      },
      "execution_count": 15,
      "outputs": [
        {
          "output_type": "stream",
          "name": "stdout",
          "text": [
            "Our top_n_sentence with their index: \n",
            "\n",
            "(\"An acclaimed Victorian painter, Tenniel is celebrated for his illustrations for Lewis Carroll's Alice's Adventures in Wonderland and Through the Looking-Glass.\", 1)\n",
            "(\"Lewis Carroll noticed Tenniel's distinct style of work and in 1864, approached the artist to illustrate his book, Alice's Adventures in Wonderland.\", 7)\n",
            "(\"Google celebrated British illustrator and artist Sir John Tenniel's 200th birth anniversary with a doodle on February 28.\", 0)\n"
          ]
        }
      ]
    },
    {
      "cell_type": "markdown",
      "source": [
        "# **Result / Summary**"
      ],
      "metadata": {
        "id": "WLWQlKq4G0-f"
      }
    },
    {
      "cell_type": "code",
      "source": [
        "print(\"Summary: \\n\", summary)"
      ],
      "metadata": {
        "colab": {
          "base_uri": "https://localhost:8080/"
        },
        "id": "zoC0RTCKGyz8",
        "outputId": "c53d8347-b1f2-43e5-f2e9-183b5580cc8e"
      },
      "execution_count": 17,
      "outputs": [
        {
          "output_type": "stream",
          "name": "stdout",
          "text": [
            "Summary: \n",
            " Google celebrated British illustrator and artist Sir John Tenniel's 200th birth anniversary with a doodle on February 28. An acclaimed Victorian painter, Tenniel is celebrated for his illustrations for Lewis Carroll's Alice's Adventures in Wonderland and Through the Looking-Glass. Lewis Carroll noticed Tenniel's distinct style of work and in 1864, approached the artist to illustrate his book, Alice's Adventures in Wonderland.\n"
          ]
        }
      ]
    },
    {
      "cell_type": "markdown",
      "source": [
        "# ***Creating a function template using above steps:***"
      ],
      "metadata": {
        "id": "znkR0LfxHDuF"
      }
    },
    {
      "cell_type": "code",
      "source": [
        "def summarizer(text, tokenizer, max_sent_in_summary=3):\n",
        "    # Create spacy document for further sentence level tokenization\n",
        "    doc = nlp(text_corpus.replace(\"\\n\", \"\"))\n",
        "    sentences = [sent.string.strip() for sent in doc.sents]\n",
        "    # Let's create an organizer which will store the sentence ordering to later reorganize the \n",
        "    # scored sentences in their correct order\n",
        "    sentence_organizer = {k:v for v,k in enumerate(sentences)}\n",
        "    # Let's now create a tf-idf (Term frequnecy Inverse Document Frequency) model\n",
        "    tf_idf_vectorizer = TfidfVectorizer(min_df=2,  max_features=None, \n",
        "                                        strip_accents='unicode', \n",
        "                                        analyzer='word',\n",
        "                                        token_pattern=r'\\w{1,}',\n",
        "                                        ngram_range=(1, 3), \n",
        "                                        use_idf=1,smooth_idf=1,\n",
        "                                        sublinear_tf=1,\n",
        "                                        stop_words = 'english')\n",
        "    # Passing our sentences treating each as one document to TF-IDF vectorizer\n",
        "    tf_idf_vectorizer.fit(sentences)\n",
        "    # Transforming our sentences to TF-IDF vectors\n",
        "    sentence_vectors = tf_idf_vectorizer.transform(sentences)\n",
        "    # Getting sentence scores for each sentences\n",
        "    sentence_scores = np.array(sentence_vectors.sum(axis=1)).ravel()\n",
        "    # Getting top-n sentences\n",
        "    N = max_sent_in_summary\n",
        "    top_n_sentences = [sentences[ind] for ind in np.argsort(sentence_scores, axis=0)[::-1][:N]]\n",
        "    # Let's now do the sentence ordering using our prebaked sentence_organizer\n",
        "    # Let's map the scored sentences with their indexes\n",
        "    mapped_top_n_sentences = [(sentence,sentence_organizer[sentence]) for sentence in top_n_sentences]\n",
        "    # Ordering our top-n sentences in their original ordering\n",
        "    mapped_top_n_sentences = sorted(mapped_top_n_sentences, key = lambda x: x[1])\n",
        "    ordered_scored_sentences = [element[0] for element in mapped_top_n_sentences]\n",
        "    # Our final summary\n",
        "    summary = \" \".join(ordered_scored_sentences)\n",
        "    return summary"
      ],
      "metadata": {
        "id": "luCmdH4uG_cI"
      },
      "execution_count": 18,
      "outputs": []
    },
    {
      "cell_type": "code",
      "source": [
        "print(\"Summarizer Result: \\n\", summarizer(text=text_corpus, tokenizer=nlp, max_sent_in_summary=3))"
      ],
      "metadata": {
        "colab": {
          "base_uri": "https://localhost:8080/"
        },
        "id": "1eJRxnthHPcD",
        "outputId": "2bac805a-d638-42b7-c6aa-2a16010fe946"
      },
      "execution_count": 22,
      "outputs": [
        {
          "output_type": "stream",
          "name": "stdout",
          "text": [
            "Summarizer Result: \n",
            " Google celebrated British illustrator and artist Sir John Tenniel's 200th birth anniversary with a doodle on February 28. An acclaimed Victorian painter, Tenniel is celebrated for his illustrations for Lewis Carroll's Alice's Adventures in Wonderland and Through the Looking-Glass. Lewis Carroll noticed Tenniel's distinct style of work and in 1864, approached the artist to illustrate his book, Alice's Adventures in Wonderland.\n"
          ]
        }
      ]
    },
    {
      "cell_type": "markdown",
      "source": [
        "Google celebrated British illustrator and artist Sir John Tenniel's 200th birth anniversary with a doodle on February 28. An acclaimed Victorian painter, Tenniel is celebrated for his illustrations for Lewis Carroll's Alice's Adventures in Wonderland and Through the Looking-Glass. Lewis Carroll noticed Tenniel's distinct style of work and in 1864, approached the artist to illustrate his book, Alice's Adventures in Wonderland."
      ],
      "metadata": {
        "id": "hJfcu44oNVHV"
      }
    }
  ]
}